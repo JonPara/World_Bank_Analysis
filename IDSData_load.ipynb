{
 "cells": [
  {
   "cell_type": "code",
   "execution_count": 1,
   "metadata": {},
   "outputs": [
    {
     "name": "stdout",
     "output_type": "stream",
     "text": [
      "C:\\Users\\anuj\\Project2\\ids.sqlite\n"
     ]
    },
    {
     "name": "stderr",
     "output_type": "stream",
     "text": [
      "The process cannot access the file because it is being used by another process.\n"
     ]
    }
   ],
   "source": [
    "#Import Pandas#Import P \n",
    "import pandas as pd\n",
    "import numpy as py\n",
    "#Clean up existing files and database if code is being executed multiple times\n",
    "!del ids.sqlite \n",
    "!del ids_clean.csv\n"
   ]
  },
  {
   "cell_type": "code",
   "execution_count": 2,
   "metadata": {},
   "outputs": [],
   "source": [
    "#### Step 2 DATABASE ENGINEERING ####\n",
    "import sqlalchemy\n",
    "from sqlalchemy import create_engine, MetaData\n",
    "from sqlalchemy import Column, Float, Integer, String\n",
    "from sqlalchemy.ext.declarative import declarative_base\n",
    "Base = declarative_base()\n",
    "\n"
   ]
  },
  {
   "cell_type": "code",
   "execution_count": 3,
   "metadata": {},
   "outputs": [],
   "source": [
    "engine = create_engine(\"sqlite:///ids.sqlite\")"
   ]
  },
  {
   "cell_type": "code",
   "execution_count": 4,
   "metadata": {},
   "outputs": [],
   "source": [
    "conn = engine.connect()"
   ]
  },
  {
   "cell_type": "code",
   "execution_count": 5,
   "metadata": {},
   "outputs": [],
   "source": [
    "#Create a class for the country master table\n",
    "class CountryMaster(Base):\n",
    "    __tablename__ = 'country_master'\n",
    "    country_id = Column(Integer, primary_key = True)\n",
    "    country_code= Column(String)\n",
    "    country_name = Column(String)\n",
    "   \n",
    "    def __repr__(self):\n",
    "        return f\"id={self.id}, name={self.name}\""
   ]
  },
  {
   "cell_type": "code",
   "execution_count": 6,
   "metadata": {},
   "outputs": [],
   "source": [
    "#Create a class for the indicator master table\n",
    "class IndicatorMaster(Base):\n",
    "    __tablename__ = 'indicator_master'\n",
    "    indicator_id = Column(Integer, primary_key = True)\n",
    "    indicator_code= Column(String)\n",
    "    indicator_name = Column(String)\n",
    "   \n",
    "    def __repr__(self):\n",
    "        return f\"id={self.id}, name={self.name}\""
   ]
  },
  {
   "cell_type": "code",
   "execution_count": 7,
   "metadata": {},
   "outputs": [],
   "source": [
    "#Create a class for the indicator master table\n",
    "class IDSData(Base):\n",
    "    __tablename__ = 'ids_data'\n",
    "    ids_data_id = Column(Integer, primary_key = True)\n",
    "    Country_Code = Column(String)\n",
    "    Indicator_Code = Column(String)\n",
    "    yr_1970 = Column(Float(12,2))\n",
    "    yr_1971 = Column(Float(12,2))\n",
    "    yr_1972= Column(Float(12,2))\n",
    "    yr_1973= Column(Float(12,2))\n",
    "    yr_1974= Column(Float(12,2))\n",
    "    yr_1975= Column(Float(12,2))\n",
    "    yr_1976= Column(Float(12,2))\n",
    "    yr_1977= Column(Float(12,2))\n",
    "    yr_1978= Column(Float(12,2))\n",
    "    yr_1979= Column(Float(12,2))\n",
    "    yr_1980= Column(Float(12,2))\n",
    "    yr_1981= Column(Float(12,2))\n",
    "    yr_1982= Column(Float(12,2))\n",
    "    yr_1983= Column(Float(12,2))\n",
    "    yr_1984= Column(Float(12,2))\n",
    "    yr_1985= Column(Float(12,2))\n",
    "    yr_1986= Column(Float(12,2))\n",
    "    yr_1987= Column(Float(12,2))\n",
    "    yr_1988= Column(Float(12,2))\n",
    "    yr_1989= Column(Float(12,2))\n",
    "    yr_1990= Column(Float(12,2))\n",
    "    yr_1991= Column(Float(12,2))\n",
    "    yr_1992= Column(Float(12,2))\n",
    "    yr_1993= Column(Float(12,2))\n",
    "    yr_1994= Column(Float(12,2))\n",
    "    yr_1995= Column(Float(12,2))\n",
    "    yr_1996= Column(Float(12,2))\n",
    "    yr_1997= Column(Float(12,2))\n",
    "    yr_1998= Column(Float(12,2))\n",
    "    yr_1999= Column(Float(12,2))\n",
    "    yr_2000= Column(Float(12,2))\n",
    "    yr_2001= Column(Float(12,2))\n",
    "    yr_2002= Column(Float(12,2))\n",
    "    yr_2003= Column(Float(12,2))\n",
    "    yr_2004= Column(Float(12,2))\n",
    "    yr_2005= Column(Float(12,2))\n",
    "    yr_2006= Column(Float(12,2))\n",
    "    yr_2007= Column(Float(12,2))\n",
    "    yr_2008= Column(Float(12,2))\n",
    "    yr_2009= Column(Float(12,2))\n",
    "    yr_2010= Column(Float(12,2))\n",
    "    yr_2011= Column(Float(12,2))\n",
    "    yr_2012= Column(Float(12,2))\n",
    "    yr_2013= Column(Float(12,2))\n",
    "    yr_2014= Column(Float(12,2))\n",
    "    yr_2015= Column(Float(12,2))\n",
    "    yr_2016= Column(Float(12,2))\n",
    "    yr_2017= Column(Float(12,2))\n",
    "    yr_2018= Column(Float(12,2))\n",
    "    yr_2019= Column(Float(12,2))\n",
    "    yr_2020= Column(Float(12,2))\n",
    "    yr_2021 = Column(Float(12,2))\n",
    "    yr_2022= Column(Float(12,2))\n",
    "    yr_2023= Column(Float(12,2))\n",
    "    yr_2024= Column(Float(12,2))\n",
    "    def __repr__(self):\n",
    "        return f\"id={self.id}, name={self.name}\""
   ]
  },
  {
   "cell_type": "code",
   "execution_count": 8,
   "metadata": {},
   "outputs": [],
   "source": [
    "Base.metadata.create_all(engine)"
   ]
  },
  {
   "cell_type": "code",
   "execution_count": 9,
   "metadata": {
    "scrolled": false
   },
   "outputs": [
    {
     "name": "stdout",
     "output_type": "stream",
     "text": [
      "[{'country_code': 'AFG', 'country_name': 'Afghanistan'}, {'country_code': 'AGO', 'country_name': 'Angola'}, {'country_code': 'ALB', 'country_name': 'Albania'}, {'country_code': 'ARG', 'country_name': 'Argentina'}, {'country_code': 'ARM', 'country_name': 'Armenia'}]\n"
     ]
    }
   ],
   "source": [
    "#IDS country data file\n",
    "country_file = \"country.csv\"\n",
    "country_df = pd.read_csv(country_file)\n",
    "country_df.head(5)\n",
    "country_data = country_df.to_dict(orient='records')\n",
    "print(country_data[:5])"
   ]
  },
  {
   "cell_type": "code",
   "execution_count": 10,
   "metadata": {},
   "outputs": [
    {
     "name": "stdout",
     "output_type": "stream",
     "text": [
      "[{'indicator_code': 'DT.GPA.DPPG', 'indicator_name': 'Average grace period on new external debt commitments (years)'}, {'indicator_code': 'DT.GPA.OFFT', 'indicator_name': 'Average grace period on new external debt commitments official (years)'}, {'indicator_code': 'DT.GPA.PRVT', 'indicator_name': 'Average grace period on new external debt commitments private (years)'}, {'indicator_code': 'DT.GRE.DPPG', 'indicator_name': 'Average grant element on new external debt commitments (%)'}, {'indicator_code': 'DT.GRE.OFFT', 'indicator_name': 'Average grant element on new external debt commitments official (%)'}]\n"
     ]
    }
   ],
   "source": [
    "#IDS Indicators data file\n",
    "indicator_file = \"indicator.csv\"\n",
    "indicator_df = pd.read_csv(indicator_file)\n",
    "indicator_df.head(5)\n",
    "indicator_data = indicator_df.to_dict(orient='records')\n",
    "print(indicator_data[:5])"
   ]
  },
  {
   "cell_type": "code",
   "execution_count": 11,
   "metadata": {},
   "outputs": [
    {
     "name": "stdout",
     "output_type": "stream",
     "text": [
      "[{'Country_Code': 'AFG', 'Indicator_Code': 'DT.GPA.DPPG', 'yr_1970': 0.0, 'yr_1971': 0.0, 'yr_1972': 0.0, 'yr_1973': 0.0, 'yr_1974': 0.0, 'yr_1975': 0.0, 'yr_1976': 0.0, 'yr_1977': 0.0, 'yr_1978': 0.0, 'yr_1979': 0.0, 'yr_1980': 0.0, 'yr_1981': 0.0, 'yr_1982': 0.0, 'yr_1983': 0.0, 'yr_1984': 0.0, 'yr_1985': 0.0, 'yr_1986': 0.0, 'yr_1987': 0.0, 'yr_1988': 0.0, 'yr_1989': 0.0, 'yr_1990': 0.0, 'yr_1991': 0.0, 'yr_1992': 0.0, 'yr_1993': 0.0, 'yr_1994': 0.0, 'yr_1995': 0.0, 'yr_1996': 0.0, 'yr_1997': 0.0, 'yr_1998': 0.0, 'yr_1999': 0.0, 'yr_2000': 0.0, 'yr_2001': 0.0, 'yr_2002': 0.0, 'yr_2003': 0.0, 'yr_2004': 0.0, 'yr_2005': 0.0, 'yr_2006': 10.25, 'yr_2007': 8.0833, 'yr_2008': 9.9575, 'yr_2009': 0.0, 'yr_2010': 7.8333, 'yr_2011': 0.0, 'yr_2012': 0.0, 'yr_2013': 0.0, 'yr_2014': 29.8333, 'yr_2015': 0.0, 'yr_2016': 0.0, 'yr_2017': 0.0, 'yr_2018': 0.0, 'yr_2019': 0.0, 'yr_2020': 0.0, 'yr_2021': 0.0, 'yr_2022': 0.0, 'yr_2023': 0.0, 'yr_2024': 0.0}, {'Country_Code': 'AFG', 'Indicator_Code': 'DT.GPA.OFFT', 'yr_1970': 0.0, 'yr_1971': 0.0, 'yr_1972': 0.0, 'yr_1973': 0.0, 'yr_1974': 0.0, 'yr_1975': 0.0, 'yr_1976': 0.0, 'yr_1977': 0.0, 'yr_1978': 0.0, 'yr_1979': 0.0, 'yr_1980': 0.0, 'yr_1981': 0.0, 'yr_1982': 0.0, 'yr_1983': 0.0, 'yr_1984': 0.0, 'yr_1985': 0.0, 'yr_1986': 0.0, 'yr_1987': 0.0, 'yr_1988': 0.0, 'yr_1989': 0.0, 'yr_1990': 0.0, 'yr_1991': 0.0, 'yr_1992': 0.0, 'yr_1993': 0.0, 'yr_1994': 0.0, 'yr_1995': 0.0, 'yr_1996': 0.0, 'yr_1997': 0.0, 'yr_1998': 0.0, 'yr_1999': 0.0, 'yr_2000': 0.0, 'yr_2001': 0.0, 'yr_2002': 0.0, 'yr_2003': 0.0, 'yr_2004': 0.0, 'yr_2005': 0.0, 'yr_2006': 10.25, 'yr_2007': 8.0833, 'yr_2008': 9.9575, 'yr_2009': 0.0, 'yr_2010': 7.8333, 'yr_2011': 0.0, 'yr_2012': 0.0, 'yr_2013': 0.0, 'yr_2014': 29.8333, 'yr_2015': 0.0, 'yr_2016': 0.0, 'yr_2017': 0.0, 'yr_2018': 0.0, 'yr_2019': 0.0, 'yr_2020': 0.0, 'yr_2021': 0.0, 'yr_2022': 0.0, 'yr_2023': 0.0, 'yr_2024': 0.0}, {'Country_Code': 'AFG', 'Indicator_Code': 'DT.GPA.PRVT', 'yr_1970': 0.0, 'yr_1971': 0.0, 'yr_1972': 0.0, 'yr_1973': 0.0, 'yr_1974': 0.0, 'yr_1975': 0.0, 'yr_1976': 0.0, 'yr_1977': 0.0, 'yr_1978': 0.0, 'yr_1979': 0.0, 'yr_1980': 0.0, 'yr_1981': 0.0, 'yr_1982': 0.0, 'yr_1983': 0.0, 'yr_1984': 0.0, 'yr_1985': 0.0, 'yr_1986': 0.0, 'yr_1987': 0.0, 'yr_1988': 0.0, 'yr_1989': 0.0, 'yr_1990': 0.0, 'yr_1991': 0.0, 'yr_1992': 0.0, 'yr_1993': 0.0, 'yr_1994': 0.0, 'yr_1995': 0.0, 'yr_1996': 0.0, 'yr_1997': 0.0, 'yr_1998': 0.0, 'yr_1999': 0.0, 'yr_2000': 0.0, 'yr_2001': 0.0, 'yr_2002': 0.0, 'yr_2003': 0.0, 'yr_2004': 0.0, 'yr_2005': 0.0, 'yr_2006': 0.0, 'yr_2007': 0.0, 'yr_2008': 0.0, 'yr_2009': 0.0, 'yr_2010': 0.0, 'yr_2011': 0.0, 'yr_2012': 0.0, 'yr_2013': 0.0, 'yr_2014': 0.0, 'yr_2015': 0.0, 'yr_2016': 0.0, 'yr_2017': 0.0, 'yr_2018': 0.0, 'yr_2019': 0.0, 'yr_2020': 0.0, 'yr_2021': 0.0, 'yr_2022': 0.0, 'yr_2023': 0.0, 'yr_2024': 0.0}, {'Country_Code': 'AFG', 'Indicator_Code': 'DT.GRE.DPPG', 'yr_1970': 0.0, 'yr_1971': 0.0, 'yr_1972': 0.0, 'yr_1973': 0.0, 'yr_1974': 0.0, 'yr_1975': 0.0, 'yr_1976': 0.0, 'yr_1977': 0.0, 'yr_1978': 0.0, 'yr_1979': 0.0, 'yr_1980': 0.0, 'yr_1981': 0.0, 'yr_1982': 0.0, 'yr_1983': 0.0, 'yr_1984': 0.0, 'yr_1985': 0.0, 'yr_1986': 0.0, 'yr_1987': 0.0, 'yr_1988': 0.0, 'yr_1989': 0.0, 'yr_1990': 0.0, 'yr_1991': 0.0, 'yr_1992': 0.0, 'yr_1993': 0.0, 'yr_1994': 0.0, 'yr_1995': 0.0, 'yr_1996': 0.0, 'yr_1997': 0.0, 'yr_1998': 0.0, 'yr_1999': 0.0, 'yr_2000': 0.0, 'yr_2001': 0.0, 'yr_2002': 0.0, 'yr_2003': 0.0, 'yr_2004': 0.0, 'yr_2005': 0.0, 'yr_2006': 76.1157, 'yr_2007': 69.8357, 'yr_2008': 80.5234, 'yr_2009': 0.0, 'yr_2010': 53.1957, 'yr_2011': 0.0, 'yr_2012': 0.0, 'yr_2013': 0.0, 'yr_2014': 96.378, 'yr_2015': 0.0, 'yr_2016': 0.0, 'yr_2017': 0.0, 'yr_2018': 0.0, 'yr_2019': 0.0, 'yr_2020': 0.0, 'yr_2021': 0.0, 'yr_2022': 0.0, 'yr_2023': 0.0, 'yr_2024': 0.0}, {'Country_Code': 'AFG', 'Indicator_Code': 'DT.GRE.OFFT', 'yr_1970': 0.0, 'yr_1971': 0.0, 'yr_1972': 0.0, 'yr_1973': 0.0, 'yr_1974': 0.0, 'yr_1975': 0.0, 'yr_1976': 0.0, 'yr_1977': 0.0, 'yr_1978': 0.0, 'yr_1979': 0.0, 'yr_1980': 0.0, 'yr_1981': 0.0, 'yr_1982': 0.0, 'yr_1983': 0.0, 'yr_1984': 0.0, 'yr_1985': 0.0, 'yr_1986': 0.0, 'yr_1987': 0.0, 'yr_1988': 0.0, 'yr_1989': 0.0, 'yr_1990': 0.0, 'yr_1991': 0.0, 'yr_1992': 0.0, 'yr_1993': 0.0, 'yr_1994': 0.0, 'yr_1995': 0.0, 'yr_1996': 0.0, 'yr_1997': 0.0, 'yr_1998': 0.0, 'yr_1999': 0.0, 'yr_2000': 0.0, 'yr_2001': 0.0, 'yr_2002': 0.0, 'yr_2003': 0.0, 'yr_2004': 0.0, 'yr_2005': 0.0, 'yr_2006': 76.1157, 'yr_2007': 69.8357, 'yr_2008': 80.5234, 'yr_2009': 0.0, 'yr_2010': 53.1957, 'yr_2011': 0.0, 'yr_2012': 0.0, 'yr_2013': 0.0, 'yr_2014': 96.378, 'yr_2015': 0.0, 'yr_2016': 0.0, 'yr_2017': 0.0, 'yr_2018': 0.0, 'yr_2019': 0.0, 'yr_2020': 0.0, 'yr_2021': 0.0, 'yr_2022': 0.0, 'yr_2023': 0.0, 'yr_2024': 0.0}]\n"
     ]
    }
   ],
   "source": [
    "#IDS main data file\n",
    "file = \"IDSData.csv\"\n",
    "ids_data_df = pd.read_csv(file)\n",
    "ids_data_df.fillna(value=0, inplace=True)\n",
    "ids_data_df.head(2) \n",
    "ids_data_df.drop([ids_data_df.columns[0]], axis=1, inplace=True)\n",
    "ids_data_df.drop([ids_data_df.columns[1]], axis=1, inplace=True)\n",
    "ids_data_df.drop([ids_data_df.columns[57]], axis=1, inplace=True)\n",
    "#ids_data_df.drop([ids_data_df.columns['Indicator Name']], axis=1, inplace=True)\n",
    "\n",
    "ids_data_df.to_csv('ids_clean.csv', index = False)\n",
    "ids_data_df.head()\n",
    "\n",
    "clean_file = \"ids_clean.csv\"\n",
    "ids_clean_data_df = pd.read_csv(clean_file)\n",
    "\n",
    "ids_clean_data_df.head(5)\n",
    "clean_data = ids_clean_data_df.to_dict(orient='records')\n",
    "print(clean_data[:5])\n"
   ]
  },
  {
   "cell_type": "code",
   "execution_count": 12,
   "metadata": {},
   "outputs": [],
   "source": [
    "metadata = MetaData(bind=engine)\n",
    "metadata.reflect()"
   ]
  },
  {
   "cell_type": "code",
   "execution_count": 13,
   "metadata": {},
   "outputs": [],
   "source": [
    "# Save the reference to the `country master` table as a variable called `cm`\n",
    "cm = sqlalchemy.Table('country_master', metadata, autoload=True)"
   ]
  },
  {
   "cell_type": "code",
   "execution_count": 14,
   "metadata": {},
   "outputs": [],
   "source": [
    "# Save the reference to the `indicator master` table as a variable called `im`\n",
    "im = sqlalchemy.Table('indicator_master', metadata, autoload=True)"
   ]
  },
  {
   "cell_type": "code",
   "execution_count": 15,
   "metadata": {},
   "outputs": [],
   "source": [
    "# Save the reference to the `cleaned data` table as a variable called `cd`\n",
    "cd = sqlalchemy.Table('ids_data', metadata, autoload=True)"
   ]
  },
  {
   "cell_type": "code",
   "execution_count": 16,
   "metadata": {},
   "outputs": [
    {
     "data": {
      "text/plain": [
       "<sqlalchemy.engine.result.ResultProxy at 0x916aba8>"
      ]
     },
     "execution_count": 16,
     "metadata": {},
     "output_type": "execute_result"
    }
   ],
   "source": [
    "# Use `cm.delete()` to remove any pre-existing data, from country table\n",
    "conn.execute(cm.delete())"
   ]
  },
  {
   "cell_type": "code",
   "execution_count": 17,
   "metadata": {},
   "outputs": [
    {
     "data": {
      "text/plain": [
       "<sqlalchemy.engine.result.ResultProxy at 0x9852748>"
      ]
     },
     "execution_count": 17,
     "metadata": {},
     "output_type": "execute_result"
    }
   ],
   "source": [
    "# Use `im.delete()` to remove any pre-existing data, from indicator table\n",
    "conn.execute(im.delete())"
   ]
  },
  {
   "cell_type": "code",
   "execution_count": 18,
   "metadata": {},
   "outputs": [
    {
     "data": {
      "text/plain": [
       "<sqlalchemy.engine.result.ResultProxy at 0x9852a58>"
      ]
     },
     "execution_count": 18,
     "metadata": {},
     "output_type": "execute_result"
    }
   ],
   "source": [
    "# Use `cd.delete()` to remove any pre-existing data, from IDS data table\n",
    "conn.execute(cd.delete())"
   ]
  },
  {
   "cell_type": "code",
   "execution_count": 19,
   "metadata": {},
   "outputs": [
    {
     "data": {
      "text/plain": [
       "<sqlalchemy.engine.result.ResultProxy at 0xc3c5f60>"
      ]
     },
     "execution_count": 19,
     "metadata": {},
     "output_type": "execute_result"
    }
   ],
   "source": [
    "# Use `cm.insert()` to insert the data into the country table\n",
    "# The SQL table is populated during this step\n",
    "conn.execute(cm.insert(), country_data)"
   ]
  },
  {
   "cell_type": "code",
   "execution_count": 20,
   "metadata": {},
   "outputs": [
    {
     "data": {
      "text/plain": [
       "<sqlalchemy.engine.result.ResultProxy at 0x90f5a58>"
      ]
     },
     "execution_count": 20,
     "metadata": {},
     "output_type": "execute_result"
    }
   ],
   "source": [
    "# Use `cm.insert()` to insert the data into the country table\n",
    "# The SQL table is populated during this step\n",
    "conn.execute(im.insert(), indicator_data)"
   ]
  },
  {
   "cell_type": "code",
   "execution_count": 21,
   "metadata": {},
   "outputs": [
    {
     "data": {
      "text/plain": [
       "<sqlalchemy.engine.result.ResultProxy at 0xaf7f7b8>"
      ]
     },
     "execution_count": 21,
     "metadata": {},
     "output_type": "execute_result"
    }
   ],
   "source": [
    "# Use `cd.insert()` to insert the data into the ids_data table\n",
    "# The SQL table is populated during this step\n",
    "conn.execute(cd.insert(), clean_data)"
   ]
  },
  {
   "cell_type": "code",
   "execution_count": 22,
   "metadata": {},
   "outputs": [
    {
     "data": {
      "text/plain": [
       "[(1, 'AFG', 'Afghanistan'),\n",
       " (2, 'AGO', 'Angola'),\n",
       " (3, 'ALB', 'Albania'),\n",
       " (4, 'ARG', 'Argentina'),\n",
       " (5, 'ARM', 'Armenia')]"
      ]
     },
     "execution_count": 22,
     "metadata": {},
     "output_type": "execute_result"
    }
   ],
   "source": [
    "# Test that the insert works by fetching the first 5 rows from country_master table. \n",
    "conn.execute(\"select * from country_master limit 5\").fetchall()"
   ]
  },
  {
   "cell_type": "code",
   "execution_count": 23,
   "metadata": {},
   "outputs": [
    {
     "data": {
      "text/plain": [
       "[(1, 'DT.GPA.DPPG', 'Average grace period on new external debt commitments (years)'),\n",
       " (2, 'DT.GPA.OFFT', 'Average grace period on new external debt commitments official (years)'),\n",
       " (3, 'DT.GPA.PRVT', 'Average grace period on new external debt commitments private (years)'),\n",
       " (4, 'DT.GRE.DPPG', 'Average grant element on new external debt commitments (%)'),\n",
       " (5, 'DT.GRE.OFFT', 'Average grant element on new external debt commitments official (%)')]"
      ]
     },
     "execution_count": 23,
     "metadata": {},
     "output_type": "execute_result"
    }
   ],
   "source": [
    "# Test that the insert works by fetching the first 5 rows from indicator_master table. \n",
    "conn.execute(\"select * from indicator_master limit 5\").fetchall()"
   ]
  },
  {
   "cell_type": "code",
   "execution_count": 24,
   "metadata": {},
   "outputs": [
    {
     "data": {
      "text/plain": [
       "[(1, 'AFG', 'DT.GPA.DPPG', 0.0, 0.0, 0.0, 0.0, 0.0, 0.0, 0.0, 0.0, 0.0, 0.0, 0.0, 0.0, 0.0, 0.0, 0.0, 0.0, 0.0, 0.0, 0.0, 0.0, 0.0, 0.0, 0.0, 0.0, 0.0, 0.0, 0.0, 0.0, 0.0, 0.0, 0.0, 0.0, 0.0, 0.0, 0.0, 0.0, 10.25, 8.0833, 9.9575, 0.0, 7.8333, 0.0, 0.0, 0.0, 29.8333, 0.0, 0.0, 0.0, 0.0, 0.0, 0.0, 0.0, 0.0, 0.0, 0.0),\n",
       " (2, 'AFG', 'DT.GPA.OFFT', 0.0, 0.0, 0.0, 0.0, 0.0, 0.0, 0.0, 0.0, 0.0, 0.0, 0.0, 0.0, 0.0, 0.0, 0.0, 0.0, 0.0, 0.0, 0.0, 0.0, 0.0, 0.0, 0.0, 0.0, 0.0, 0.0, 0.0, 0.0, 0.0, 0.0, 0.0, 0.0, 0.0, 0.0, 0.0, 0.0, 10.25, 8.0833, 9.9575, 0.0, 7.8333, 0.0, 0.0, 0.0, 29.8333, 0.0, 0.0, 0.0, 0.0, 0.0, 0.0, 0.0, 0.0, 0.0, 0.0),\n",
       " (3, 'AFG', 'DT.GPA.PRVT', 0.0, 0.0, 0.0, 0.0, 0.0, 0.0, 0.0, 0.0, 0.0, 0.0, 0.0, 0.0, 0.0, 0.0, 0.0, 0.0, 0.0, 0.0, 0.0, 0.0, 0.0, 0.0, 0.0, 0.0, 0.0, 0.0, 0.0, 0.0, 0.0, 0.0, 0.0, 0.0, 0.0, 0.0, 0.0, 0.0, 0.0, 0.0, 0.0, 0.0, 0.0, 0.0, 0.0, 0.0, 0.0, 0.0, 0.0, 0.0, 0.0, 0.0, 0.0, 0.0, 0.0, 0.0, 0.0),\n",
       " (4, 'AFG', 'DT.GRE.DPPG', 0.0, 0.0, 0.0, 0.0, 0.0, 0.0, 0.0, 0.0, 0.0, 0.0, 0.0, 0.0, 0.0, 0.0, 0.0, 0.0, 0.0, 0.0, 0.0, 0.0, 0.0, 0.0, 0.0, 0.0, 0.0, 0.0, 0.0, 0.0, 0.0, 0.0, 0.0, 0.0, 0.0, 0.0, 0.0, 0.0, 76.1157, 69.8357, 80.5234, 0.0, 53.1957, 0.0, 0.0, 0.0, 96.378, 0.0, 0.0, 0.0, 0.0, 0.0, 0.0, 0.0, 0.0, 0.0, 0.0),\n",
       " (5, 'AFG', 'DT.GRE.OFFT', 0.0, 0.0, 0.0, 0.0, 0.0, 0.0, 0.0, 0.0, 0.0, 0.0, 0.0, 0.0, 0.0, 0.0, 0.0, 0.0, 0.0, 0.0, 0.0, 0.0, 0.0, 0.0, 0.0, 0.0, 0.0, 0.0, 0.0, 0.0, 0.0, 0.0, 0.0, 0.0, 0.0, 0.0, 0.0, 0.0, 76.1157, 69.8357, 80.5234, 0.0, 53.1957, 0.0, 0.0, 0.0, 96.378, 0.0, 0.0, 0.0, 0.0, 0.0, 0.0, 0.0, 0.0, 0.0, 0.0)]"
      ]
     },
     "execution_count": 24,
     "metadata": {},
     "output_type": "execute_result"
    }
   ],
   "source": [
    "# Test that the insert works by fetching the first 5 rows from ind_data table. \n",
    "conn.execute(\"select * from ids_data limit 5\").fetchall()"
   ]
  },
  {
   "cell_type": "code",
   "execution_count": null,
   "metadata": {},
   "outputs": [],
   "source": []
  }
 ],
 "metadata": {
  "kernelspec": {
   "display_name": "Python 3",
   "language": "python",
   "name": "python3"
  },
  "language_info": {
   "codemirror_mode": {
    "name": "ipython",
    "version": 3
   },
   "file_extension": ".py",
   "mimetype": "text/x-python",
   "name": "python",
   "nbconvert_exporter": "python",
   "pygments_lexer": "ipython3",
   "version": "3.6.4"
  }
 },
 "nbformat": 4,
 "nbformat_minor": 2
}
