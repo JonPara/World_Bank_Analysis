{
 "cells": [
  {
   "cell_type": "code",
   "execution_count": 1,
   "metadata": {},
   "outputs": [
    {
     "name": "stdout",
     "output_type": "stream",
     "text": [
      "C:\\Users\\anuj\\Project2\\ids.sqlite\n"
     ]
    },
    {
     "name": "stderr",
     "output_type": "stream",
     "text": [
      "The process cannot access the file because it is being used by another process.\n"
     ]
    }
   ],
   "source": [
    "#Import Pandas#Import P \n",
    "import pandas as pd\n",
    "import numpy as py\n",
    "#Clean up existing files and database if code is being executed multiple times\n",
    "!del ids.sqlite \n",
    "!del ids_clean.csv\n",
    "!del poverty_data_clean.csv\n"
   ]
  },
  {
   "cell_type": "code",
   "execution_count": 2,
   "metadata": {},
   "outputs": [],
   "source": [
    "#### Step 2 DATABASE ENGINEERING ####\n",
    "import sqlalchemy\n",
    "from sqlalchemy import create_engine, MetaData\n",
    "from sqlalchemy import Column, Float, Integer, String\n",
    "from sqlalchemy.ext.declarative import declarative_base\n",
    "Base = declarative_base()\n",
    "\n"
   ]
  },
  {
   "cell_type": "code",
   "execution_count": 3,
   "metadata": {},
   "outputs": [],
   "source": [
    "engine = create_engine(\"sqlite:///ids.sqlite\")"
   ]
  },
  {
   "cell_type": "code",
   "execution_count": 4,
   "metadata": {},
   "outputs": [],
   "source": [
    "conn = engine.connect()"
   ]
  },
  {
   "cell_type": "code",
   "execution_count": 5,
   "metadata": {},
   "outputs": [],
   "source": [
    "#Create a class for the country master table\n",
    "class CountryMaster(Base):\n",
    "    __tablename__ = 'country_master'\n",
    "    country_id = Column(Integer, primary_key = True)\n",
    "    country_code= Column(String)\n",
    "    country_name = Column(String)\n",
    "   \n",
    "    def __repr__(self):\n",
    "        return f\"id={self.id}, name={self.name}\""
   ]
  },
  {
   "cell_type": "code",
   "execution_count": 6,
   "metadata": {},
   "outputs": [],
   "source": [
    "#Create a class for the country master table\n",
    "class CountryMaster1(Base):\n",
    "    __tablename__ = 'country_master1'\n",
    "    country_id = Column(Integer, primary_key = True)\n",
    "    country_code= Column(String)\n",
    "    country_long_name = Column(String)\n",
    "    currency_unit = Column(String)\n",
    "    income_group = Column(String)\n",
    "    region = Column(String)\n",
    "   \n",
    "    def __repr__(self):\n",
    "        return f\"id={self.id}, name={self.name}\""
   ]
  },
  {
   "cell_type": "code",
   "execution_count": 7,
   "metadata": {},
   "outputs": [],
   "source": [
    "#Create a class for the indicator master table\n",
    "class IndicatorMaster(Base):\n",
    "    __tablename__ = 'indicator_master'\n",
    "    indicator_id = Column(Integer, primary_key = True)\n",
    "    indicator_code= Column(String)\n",
    "    indicator_name = Column(String)\n",
    "   \n",
    "    def __repr__(self):\n",
    "        return f\"id={self.id}, name={self.name}\""
   ]
  },
  {
   "cell_type": "code",
   "execution_count": 8,
   "metadata": {},
   "outputs": [],
   "source": [
    "#Create a class for the indicator master table\n",
    "class IDSData(Base):\n",
    "    __tablename__ = 'ids_data'\n",
    "    ids_data_id = Column(Integer, primary_key = True)\n",
    "    Country_Code = Column(String)\n",
    "    Indicator_Code = Column(String)\n",
    "    yr_1970 = Column(Float(12,2))\n",
    "    yr_1971 = Column(Float(12,2))\n",
    "    yr_1972= Column(Float(12,2))\n",
    "    yr_1973= Column(Float(12,2))\n",
    "    yr_1974= Column(Float(12,2))\n",
    "    yr_1975= Column(Float(12,2))\n",
    "    yr_1976= Column(Float(12,2))\n",
    "    yr_1977= Column(Float(12,2))\n",
    "    yr_1978= Column(Float(12,2))\n",
    "    yr_1979= Column(Float(12,2))\n",
    "    yr_1980= Column(Float(12,2))\n",
    "    yr_1981= Column(Float(12,2))\n",
    "    yr_1982= Column(Float(12,2))\n",
    "    yr_1983= Column(Float(12,2))\n",
    "    yr_1984= Column(Float(12,2))\n",
    "    yr_1985= Column(Float(12,2))\n",
    "    yr_1986= Column(Float(12,2))\n",
    "    yr_1987= Column(Float(12,2))\n",
    "    yr_1988= Column(Float(12,2))\n",
    "    yr_1989= Column(Float(12,2))\n",
    "    yr_1990= Column(Float(12,2))\n",
    "    yr_1991= Column(Float(12,2))\n",
    "    yr_1992= Column(Float(12,2))\n",
    "    yr_1993= Column(Float(12,2))\n",
    "    yr_1994= Column(Float(12,2))\n",
    "    yr_1995= Column(Float(12,2))\n",
    "    yr_1996= Column(Float(12,2))\n",
    "    yr_1997= Column(Float(12,2))\n",
    "    yr_1998= Column(Float(12,2))\n",
    "    yr_1999= Column(Float(12,2))\n",
    "    yr_2000= Column(Float(12,2))\n",
    "    yr_2001= Column(Float(12,2))\n",
    "    yr_2002= Column(Float(12,2))\n",
    "    yr_2003= Column(Float(12,2))\n",
    "    yr_2004= Column(Float(12,2))\n",
    "    yr_2005= Column(Float(12,2))\n",
    "    yr_2006= Column(Float(12,2))\n",
    "    yr_2007= Column(Float(12,2))\n",
    "    yr_2008= Column(Float(12,2))\n",
    "    yr_2009= Column(Float(12,2))\n",
    "    yr_2010= Column(Float(12,2))\n",
    "    yr_2011= Column(Float(12,2))\n",
    "    yr_2012= Column(Float(12,2))\n",
    "    yr_2013= Column(Float(12,2))\n",
    "    yr_2014= Column(Float(12,2))\n",
    "    yr_2015= Column(Float(12,2))\n",
    "    yr_2016= Column(Float(12,2))\n",
    "    yr_2017= Column(Float(12,2))\n",
    "    yr_2018= Column(Float(12,2))\n",
    "    yr_2019= Column(Float(12,2))\n",
    "    yr_2020= Column(Float(12,2))\n",
    "    yr_2021 = Column(Float(12,2))\n",
    "    yr_2022= Column(Float(12,2))\n",
    "    yr_2023= Column(Float(12,2))\n",
    "    yr_2024= Column(Float(12,2))\n",
    "    def __repr__(self):\n",
    "        return f\"id={self.id}, name={self.name}\""
   ]
  },
  {
   "cell_type": "code",
   "execution_count": 9,
   "metadata": {},
   "outputs": [],
   "source": [
    "#Create a class for the poverty master table\n",
    "class PovertyData(Base):\n",
    "    __tablename__ = 'poverty_data'\n",
    "    poverty_data_id = Column(Integer, primary_key = True)\n",
    "    Country_Code = Column(String)\n",
    "    Indicator_Code = Column(String)\n",
    "    yr_1974= Column(Float(12,2))\n",
    "    yr_1975= Column(Float(12,2))\n",
    "    yr_1976= Column(Float(12,2))\n",
    "    yr_1977= Column(Float(12,2))\n",
    "    yr_1978= Column(Float(12,2))\n",
    "    yr_1979= Column(Float(12,2))\n",
    "    yr_1980= Column(Float(12,2))\n",
    "    yr_1981= Column(Float(12,2))\n",
    "    yr_1982= Column(Float(12,2))\n",
    "    yr_1983= Column(Float(12,2))\n",
    "    yr_1984= Column(Float(12,2))\n",
    "    yr_1985= Column(Float(12,2))\n",
    "    yr_1986= Column(Float(12,2))\n",
    "    yr_1987= Column(Float(12,2))\n",
    "    yr_1988= Column(Float(12,2))\n",
    "    yr_1989= Column(Float(12,2))\n",
    "    yr_1990= Column(Float(12,2))\n",
    "    yr_1991= Column(Float(12,2))\n",
    "    yr_1992= Column(Float(12,2))\n",
    "    yr_1993= Column(Float(12,2))\n",
    "    yr_1994= Column(Float(12,2))\n",
    "    yr_1995= Column(Float(12,2))\n",
    "    yr_1996= Column(Float(12,2))\n",
    "    yr_1997= Column(Float(12,2))\n",
    "    yr_1998= Column(Float(12,2))\n",
    "    yr_1999= Column(Float(12,2))\n",
    "    yr_2000= Column(Float(12,2))\n",
    "    yr_2001= Column(Float(12,2))\n",
    "    yr_2002= Column(Float(12,2))\n",
    "    yr_2003= Column(Float(12,2))\n",
    "    yr_2004= Column(Float(12,2))\n",
    "    yr_2005= Column(Float(12,2))\n",
    "    yr_2006= Column(Float(12,2))\n",
    "    yr_2007= Column(Float(12,2))\n",
    "    yr_2008= Column(Float(12,2))\n",
    "    yr_2009= Column(Float(12,2))\n",
    "    yr_2010= Column(Float(12,2))\n",
    "    yr_2011= Column(Float(12,2))\n",
    "    yr_2012= Column(Float(12,2))\n",
    "    yr_2013= Column(Float(12,2))\n",
    "    yr_2014= Column(Float(12,2))\n",
    "    yr_2015= Column(Float(12,2))\n",
    "    yr_2016= Column(Float(12,2))\n",
    "    yr_2017= Column(Float(12,2))\n",
    "   \n",
    "    def __repr__(self):\n",
    "        return f\"id={self.id}, name={self.name}\""
   ]
  },
  {
   "cell_type": "code",
   "execution_count": 10,
   "metadata": {},
   "outputs": [],
   "source": [
    "Base.metadata.create_all(engine)"
   ]
  },
  {
   "cell_type": "code",
   "execution_count": 11,
   "metadata": {
    "scrolled": false
   },
   "outputs": [
    {
     "name": "stdout",
     "output_type": "stream",
     "text": [
      "[{'country_code': 'AFG', 'country_name': 'Afghanistan'}, {'country_code': 'AGO', 'country_name': 'Angola'}, {'country_code': 'ALB', 'country_name': 'Albania'}, {'country_code': 'ARG', 'country_name': 'Argentina'}, {'country_code': 'ARM', 'country_name': 'Armenia'}]\n"
     ]
    }
   ],
   "source": [
    "#IDS country data file\n",
    "country_file = \"country.csv\"\n",
    "country_df = pd.read_csv(country_file)\n",
    "country_df.head(5)\n",
    "country_data = country_df.to_dict(orient='records')\n",
    "print(country_data[:5])"
   ]
  },
  {
   "cell_type": "code",
   "execution_count": 12,
   "metadata": {},
   "outputs": [
    {
     "name": "stdout",
     "output_type": "stream",
     "text": [
      "[{'indicator_code': 'DT.GPA.DPPG', 'indicator_name': 'Average grace period on new external debt commitments (years)'}, {'indicator_code': 'DT.GPA.OFFT', 'indicator_name': 'Average grace period on new external debt commitments official (years)'}, {'indicator_code': 'DT.GPA.PRVT', 'indicator_name': 'Average grace period on new external debt commitments private (years)'}, {'indicator_code': 'DT.GRE.DPPG', 'indicator_name': 'Average grant element on new external debt commitments (%)'}, {'indicator_code': 'DT.GRE.OFFT', 'indicator_name': 'Average grant element on new external debt commitments official (%)'}]\n"
     ]
    }
   ],
   "source": [
    "#IDS Indicators data file\n",
    "indicator_file = \"indicator.csv\"\n",
    "indicator_df = pd.read_csv(indicator_file)\n",
    "indicator_df.head(5)\n",
    "indicator_data = indicator_df.to_dict(orient='records')\n",
    "print(indicator_data[:5])"
   ]
  },
  {
   "cell_type": "code",
   "execution_count": 13,
   "metadata": {},
   "outputs": [
    {
     "name": "stdout",
     "output_type": "stream",
     "text": [
      "[{'Country_Code': 'AFG', 'Indicator_Code': 'DT.GPA.DPPG', 'yr_1970': 0.0, 'yr_1971': 0.0, 'yr_1972': 0.0, 'yr_1973': 0.0, 'yr_1974': 0.0, 'yr_1975': 0.0, 'yr_1976': 0.0, 'yr_1977': 0.0, 'yr_1978': 0.0, 'yr_1979': 0.0, 'yr_1980': 0.0, 'yr_1981': 0.0, 'yr_1982': 0.0, 'yr_1983': 0.0, 'yr_1984': 0.0, 'yr_1985': 0.0, 'yr_1986': 0.0, 'yr_1987': 0.0, 'yr_1988': 0.0, 'yr_1989': 0.0, 'yr_1990': 0.0, 'yr_1991': 0.0, 'yr_1992': 0.0, 'yr_1993': 0.0, 'yr_1994': 0.0, 'yr_1995': 0.0, 'yr_1996': 0.0, 'yr_1997': 0.0, 'yr_1998': 0.0, 'yr_1999': 0.0, 'yr_2000': 0.0, 'yr_2001': 0.0, 'yr_2002': 0.0, 'yr_2003': 0.0, 'yr_2004': 0.0, 'yr_2005': 0.0, 'yr_2006': 10.25, 'yr_2007': 8.0833, 'yr_2008': 9.9575, 'yr_2009': 0.0, 'yr_2010': 7.8333, 'yr_2011': 0.0, 'yr_2012': 0.0, 'yr_2013': 0.0, 'yr_2014': 29.8333, 'yr_2015': 0.0, 'yr_2016': 0.0, 'yr_2017': 0.0, 'yr_2018': 0.0, 'yr_2019': 0.0, 'yr_2020': 0.0, 'yr_2021': 0.0, 'yr_2022': 0.0, 'yr_2023': 0.0, 'yr_2024': 0.0}, {'Country_Code': 'AFG', 'Indicator_Code': 'DT.GPA.OFFT', 'yr_1970': 0.0, 'yr_1971': 0.0, 'yr_1972': 0.0, 'yr_1973': 0.0, 'yr_1974': 0.0, 'yr_1975': 0.0, 'yr_1976': 0.0, 'yr_1977': 0.0, 'yr_1978': 0.0, 'yr_1979': 0.0, 'yr_1980': 0.0, 'yr_1981': 0.0, 'yr_1982': 0.0, 'yr_1983': 0.0, 'yr_1984': 0.0, 'yr_1985': 0.0, 'yr_1986': 0.0, 'yr_1987': 0.0, 'yr_1988': 0.0, 'yr_1989': 0.0, 'yr_1990': 0.0, 'yr_1991': 0.0, 'yr_1992': 0.0, 'yr_1993': 0.0, 'yr_1994': 0.0, 'yr_1995': 0.0, 'yr_1996': 0.0, 'yr_1997': 0.0, 'yr_1998': 0.0, 'yr_1999': 0.0, 'yr_2000': 0.0, 'yr_2001': 0.0, 'yr_2002': 0.0, 'yr_2003': 0.0, 'yr_2004': 0.0, 'yr_2005': 0.0, 'yr_2006': 10.25, 'yr_2007': 8.0833, 'yr_2008': 9.9575, 'yr_2009': 0.0, 'yr_2010': 7.8333, 'yr_2011': 0.0, 'yr_2012': 0.0, 'yr_2013': 0.0, 'yr_2014': 29.8333, 'yr_2015': 0.0, 'yr_2016': 0.0, 'yr_2017': 0.0, 'yr_2018': 0.0, 'yr_2019': 0.0, 'yr_2020': 0.0, 'yr_2021': 0.0, 'yr_2022': 0.0, 'yr_2023': 0.0, 'yr_2024': 0.0}, {'Country_Code': 'AFG', 'Indicator_Code': 'DT.GPA.PRVT', 'yr_1970': 0.0, 'yr_1971': 0.0, 'yr_1972': 0.0, 'yr_1973': 0.0, 'yr_1974': 0.0, 'yr_1975': 0.0, 'yr_1976': 0.0, 'yr_1977': 0.0, 'yr_1978': 0.0, 'yr_1979': 0.0, 'yr_1980': 0.0, 'yr_1981': 0.0, 'yr_1982': 0.0, 'yr_1983': 0.0, 'yr_1984': 0.0, 'yr_1985': 0.0, 'yr_1986': 0.0, 'yr_1987': 0.0, 'yr_1988': 0.0, 'yr_1989': 0.0, 'yr_1990': 0.0, 'yr_1991': 0.0, 'yr_1992': 0.0, 'yr_1993': 0.0, 'yr_1994': 0.0, 'yr_1995': 0.0, 'yr_1996': 0.0, 'yr_1997': 0.0, 'yr_1998': 0.0, 'yr_1999': 0.0, 'yr_2000': 0.0, 'yr_2001': 0.0, 'yr_2002': 0.0, 'yr_2003': 0.0, 'yr_2004': 0.0, 'yr_2005': 0.0, 'yr_2006': 0.0, 'yr_2007': 0.0, 'yr_2008': 0.0, 'yr_2009': 0.0, 'yr_2010': 0.0, 'yr_2011': 0.0, 'yr_2012': 0.0, 'yr_2013': 0.0, 'yr_2014': 0.0, 'yr_2015': 0.0, 'yr_2016': 0.0, 'yr_2017': 0.0, 'yr_2018': 0.0, 'yr_2019': 0.0, 'yr_2020': 0.0, 'yr_2021': 0.0, 'yr_2022': 0.0, 'yr_2023': 0.0, 'yr_2024': 0.0}, {'Country_Code': 'AFG', 'Indicator_Code': 'DT.GRE.DPPG', 'yr_1970': 0.0, 'yr_1971': 0.0, 'yr_1972': 0.0, 'yr_1973': 0.0, 'yr_1974': 0.0, 'yr_1975': 0.0, 'yr_1976': 0.0, 'yr_1977': 0.0, 'yr_1978': 0.0, 'yr_1979': 0.0, 'yr_1980': 0.0, 'yr_1981': 0.0, 'yr_1982': 0.0, 'yr_1983': 0.0, 'yr_1984': 0.0, 'yr_1985': 0.0, 'yr_1986': 0.0, 'yr_1987': 0.0, 'yr_1988': 0.0, 'yr_1989': 0.0, 'yr_1990': 0.0, 'yr_1991': 0.0, 'yr_1992': 0.0, 'yr_1993': 0.0, 'yr_1994': 0.0, 'yr_1995': 0.0, 'yr_1996': 0.0, 'yr_1997': 0.0, 'yr_1998': 0.0, 'yr_1999': 0.0, 'yr_2000': 0.0, 'yr_2001': 0.0, 'yr_2002': 0.0, 'yr_2003': 0.0, 'yr_2004': 0.0, 'yr_2005': 0.0, 'yr_2006': 76.1157, 'yr_2007': 69.8357, 'yr_2008': 80.5234, 'yr_2009': 0.0, 'yr_2010': 53.1957, 'yr_2011': 0.0, 'yr_2012': 0.0, 'yr_2013': 0.0, 'yr_2014': 96.378, 'yr_2015': 0.0, 'yr_2016': 0.0, 'yr_2017': 0.0, 'yr_2018': 0.0, 'yr_2019': 0.0, 'yr_2020': 0.0, 'yr_2021': 0.0, 'yr_2022': 0.0, 'yr_2023': 0.0, 'yr_2024': 0.0}, {'Country_Code': 'AFG', 'Indicator_Code': 'DT.GRE.OFFT', 'yr_1970': 0.0, 'yr_1971': 0.0, 'yr_1972': 0.0, 'yr_1973': 0.0, 'yr_1974': 0.0, 'yr_1975': 0.0, 'yr_1976': 0.0, 'yr_1977': 0.0, 'yr_1978': 0.0, 'yr_1979': 0.0, 'yr_1980': 0.0, 'yr_1981': 0.0, 'yr_1982': 0.0, 'yr_1983': 0.0, 'yr_1984': 0.0, 'yr_1985': 0.0, 'yr_1986': 0.0, 'yr_1987': 0.0, 'yr_1988': 0.0, 'yr_1989': 0.0, 'yr_1990': 0.0, 'yr_1991': 0.0, 'yr_1992': 0.0, 'yr_1993': 0.0, 'yr_1994': 0.0, 'yr_1995': 0.0, 'yr_1996': 0.0, 'yr_1997': 0.0, 'yr_1998': 0.0, 'yr_1999': 0.0, 'yr_2000': 0.0, 'yr_2001': 0.0, 'yr_2002': 0.0, 'yr_2003': 0.0, 'yr_2004': 0.0, 'yr_2005': 0.0, 'yr_2006': 76.1157, 'yr_2007': 69.8357, 'yr_2008': 80.5234, 'yr_2009': 0.0, 'yr_2010': 53.1957, 'yr_2011': 0.0, 'yr_2012': 0.0, 'yr_2013': 0.0, 'yr_2014': 96.378, 'yr_2015': 0.0, 'yr_2016': 0.0, 'yr_2017': 0.0, 'yr_2018': 0.0, 'yr_2019': 0.0, 'yr_2020': 0.0, 'yr_2021': 0.0, 'yr_2022': 0.0, 'yr_2023': 0.0, 'yr_2024': 0.0}]\n"
     ]
    }
   ],
   "source": [
    "#IDS main data file\n",
    "file = \"IDSData.csv\"\n",
    "ids_data_df = pd.read_csv(file)\n",
    "ids_data_df.fillna(value=0, inplace=True)\n",
    "ids_data_df.head(2) \n",
    "ids_data_df.drop([ids_data_df.columns[0]], axis=1, inplace=True)\n",
    "ids_data_df.drop([ids_data_df.columns[1]], axis=1, inplace=True)\n",
    "ids_data_df.drop([ids_data_df.columns[57]], axis=1, inplace=True)\n",
    "#ids_data_df.drop([ids_data_df.columns['Indicator Name']], axis=1, inplace=True)\n",
    "\n",
    "ids_data_df.to_csv('ids_clean.csv', index = False)\n",
    "ids_data_df.head()\n",
    "\n",
    "clean_file = \"ids_clean.csv\"\n",
    "ids_clean_data_df = pd.read_csv(clean_file)\n",
    "\n",
    "ids_clean_data_df.head(5)\n",
    "clean_data = ids_clean_data_df.to_dict(orient='records')\n",
    "print(clean_data[:5])\n"
   ]
  },
  {
   "cell_type": "code",
   "execution_count": 14,
   "metadata": {},
   "outputs": [
    {
     "name": "stdout",
     "output_type": "stream",
     "text": [
      "[{'Country_Code': 'EAP', 'Indicator_Code': 'SI.POV.UMIC.NO', 'yr_1974': -1.0, 'yr_1975': -1.0, 'yr_1976': -1.0, 'yr_1977': -1.0, 'yr_1978': -1.0, 'yr_1979': -1.0, 'yr_1980': -1.0, 'yr_1981': 1340.7, 'yr_1982': -1.0, 'yr_1983': -1.0, 'yr_1984': 1403.3, 'yr_1985': -1.0, 'yr_1986': -1.0, 'yr_1987': 1465.6, 'yr_1988': -1.0, 'yr_1989': -1.0, 'yr_1990': 1525.4, 'yr_1991': -1.0, 'yr_1992': -1.0, 'yr_1993': 1557.7, 'yr_1994': -1.0, 'yr_1995': -1.0, 'yr_1996': 1550.2, 'yr_1997': -1.0, 'yr_1998': -1.0, 'yr_1999': 1562.2, 'yr_2000': -1.0, 'yr_2001': -1.0, 'yr_2002': 1476.0, 'yr_2003': -1.0, 'yr_2004': -1.0, 'yr_2005': 1357.5, 'yr_2006': -1.0, 'yr_2007': -1.0, 'yr_2008': 1230.2, 'yr_2009': -1.0, 'yr_2010': 1101.8, 'yr_2011': 1036.0, 'yr_2012': 969.7, 'yr_2013': 853.0, 'yr_2014': -1.0, 'yr_2015': -1.0, 'yr_2016': -1.0, 'yr_2017': -1.0}, {'Country_Code': 'ECA', 'Indicator_Code': 'SI.POV.UMIC.NO', 'yr_1974': -1.0, 'yr_1975': -1.0, 'yr_1976': -1.0, 'yr_1977': -1.0, 'yr_1978': -1.0, 'yr_1979': -1.0, 'yr_1980': -1.0, 'yr_1981': -1.0, 'yr_1982': -1.0, 'yr_1983': -1.0, 'yr_1984': -1.0, 'yr_1985': -1.0, 'yr_1986': -1.0, 'yr_1987': 105.9, 'yr_1988': -1.0, 'yr_1989': -1.0, 'yr_1990': 117.3, 'yr_1991': -1.0, 'yr_1992': -1.0, 'yr_1993': 168.5, 'yr_1994': -1.0, 'yr_1995': -1.0, 'yr_1996': 194.1, 'yr_1997': -1.0, 'yr_1998': -1.0, 'yr_1999': 209.7, 'yr_2000': -1.0, 'yr_2001': -1.0, 'yr_2002': 161.8, 'yr_2003': -1.0, 'yr_2004': -1.0, 'yr_2005': 124.5, 'yr_2006': -1.0, 'yr_2007': -1.0, 'yr_2008': 81.0, 'yr_2009': -1.0, 'yr_2010': 78.1, 'yr_2011': 73.7, 'yr_2012': 72.0, 'yr_2013': 67.8, 'yr_2014': -1.0, 'yr_2015': -1.0, 'yr_2016': -1.0, 'yr_2017': -1.0}, {'Country_Code': 'LAC', 'Indicator_Code': 'SI.POV.UMIC.NO', 'yr_1974': -1.0, 'yr_1975': -1.0, 'yr_1976': -1.0, 'yr_1977': -1.0, 'yr_1978': -1.0, 'yr_1979': -1.0, 'yr_1980': -1.0, 'yr_1981': 166.5, 'yr_1982': -1.0, 'yr_1983': -1.0, 'yr_1984': 195.4, 'yr_1985': -1.0, 'yr_1986': -1.0, 'yr_1987': 188.8, 'yr_1988': -1.0, 'yr_1989': -1.0, 'yr_1990': 213.6, 'yr_1991': -1.0, 'yr_1992': -1.0, 'yr_1993': 221.9, 'yr_1994': -1.0, 'yr_1995': -1.0, 'yr_1996': 234.5, 'yr_1997': -1.0, 'yr_1998': -1.0, 'yr_1999': 239.3, 'yr_2000': -1.0, 'yr_2001': -1.0, 'yr_2002': 239.6, 'yr_2003': -1.0, 'yr_2004': -1.0, 'yr_2005': 225.7, 'yr_2006': -1.0, 'yr_2007': -1.0, 'yr_2008': 191.3, 'yr_2009': -1.0, 'yr_2010': 182.0, 'yr_2011': 175.7, 'yr_2012': 167.2, 'yr_2013': 165.8, 'yr_2014': -1.0, 'yr_2015': -1.0, 'yr_2016': -1.0, 'yr_2017': -1.0}, {'Country_Code': 'LMY', 'Indicator_Code': 'SI.POV.UMIC.NO', 'yr_1974': -1.0, 'yr_1975': -1.0, 'yr_1976': -1.0, 'yr_1977': -1.0, 'yr_1978': -1.0, 'yr_1979': -1.0, 'yr_1980': -1.0, 'yr_1981': 2967.6, 'yr_1982': -1.0, 'yr_1983': -1.0, 'yr_1984': 3143.1, 'yr_1985': -1.0, 'yr_1986': -1.0, 'yr_1987': 3307.9, 'yr_1988': -1.0, 'yr_1989': -1.0, 'yr_1990': 3512.5, 'yr_1991': -1.0, 'yr_1992': -1.0, 'yr_1993': 3729.5, 'yr_1994': -1.0, 'yr_1995': -1.0, 'yr_1996': 3855.1, 'yr_1997': -1.0, 'yr_1998': -1.0, 'yr_1999': 4009.7, 'yr_2000': -1.0, 'yr_2001': -1.0, 'yr_2002': 3990.5, 'yr_2003': -1.0, 'yr_2004': -1.0, 'yr_2005': 3911.4, 'yr_2006': -1.0, 'yr_2007': -1.0, 'yr_2008': 3799.8, 'yr_2009': -1.0, 'yr_2010': 3712.2, 'yr_2011': 3639.3, 'yr_2012': 3573.8, 'yr_2013': 3457.9, 'yr_2014': -1.0, 'yr_2015': -1.0, 'yr_2016': -1.0, 'yr_2017': -1.0}, {'Country_Code': 'LIC', 'Indicator_Code': 'SI.POV.UMIC.NO', 'yr_1974': -1.0, 'yr_1975': -1.0, 'yr_1976': -1.0, 'yr_1977': -1.0, 'yr_1978': -1.0, 'yr_1979': -1.0, 'yr_1980': -1.0, 'yr_1981': 237.7, 'yr_1982': -1.0, 'yr_1983': -1.0, 'yr_1984': 257.2, 'yr_1985': -1.0, 'yr_1986': -1.0, 'yr_1987': 277.7, 'yr_1988': -1.0, 'yr_1989': -1.0, 'yr_1990': 304.8, 'yr_1991': -1.0, 'yr_1992': -1.0, 'yr_1993': 335.3, 'yr_1994': -1.0, 'yr_1995': -1.0, 'yr_1996': 361.8, 'yr_1997': -1.0, 'yr_1998': -1.0, 'yr_1999': 392.2, 'yr_2000': -1.0, 'yr_2001': -1.0, 'yr_2002': 425.3, 'yr_2003': -1.0, 'yr_2004': -1.0, 'yr_2005': 460.1, 'yr_2006': -1.0, 'yr_2007': -1.0, 'yr_2008': 495.3, 'yr_2009': -1.0, 'yr_2010': 518.6, 'yr_2011': 530.0, 'yr_2012': 535.3, 'yr_2013': 546.1, 'yr_2014': -1.0, 'yr_2015': -1.0, 'yr_2016': -1.0, 'yr_2017': -1.0}]\n"
     ]
    }
   ],
   "source": [
    "#Poverty data File\n",
    "file = \"PovertyData.csv\"\n",
    "poverty_data_df = pd.read_csv(file)\n",
    "poverty_data_df.fillna(value=-1, inplace=True)\n",
    "poverty_data_df.head(2) \n",
    "poverty_data_df.drop([poverty_data_df.columns[0]], axis=1, inplace=True)\n",
    "poverty_data_df.drop([poverty_data_df.columns[1]], axis=1, inplace=True)\n",
    "\n",
    "poverty_data_df.to_csv('poverty_data_clean.csv', index = False)\n",
    "poverty_data_df.head()\n",
    "\n",
    "poverty_clean_file = \"poverty_data_clean.csv\"\n",
    "poverty_clean_data_df = pd.read_csv(poverty_clean_file)\n",
    "\n",
    "poverty_clean_data_df.head(5)\n",
    "poverty_clean_data = poverty_clean_data_df.to_dict(orient='records')\n",
    "print(poverty_clean_data[:5])"
   ]
  },
  {
   "cell_type": "code",
   "execution_count": 15,
   "metadata": {},
   "outputs": [
    {
     "name": "stdout",
     "output_type": "stream",
     "text": [
      "[{'country_code': 'AFG', 'country_long_name': 'Islamic-State-of-Afghanistan', 'currency_unit': 'Afghan-afghani', 'income_group': 'Low-income', 'region': 'South-Asia'}, {'country_code': 'AGO', 'country_long_name': 'Peoples-Republic-of-Angola', 'currency_unit': 'Angolan-kwanza', 'income_group': 'Lower-middle-income', 'region': 'Sub-Saharan-Africa'}, {'country_code': 'ALB', 'country_long_name': 'Republic-of-Albania', 'currency_unit': 'Albanian-lek', 'income_group': 'Upper-middle-income', 'region': 'Europe-&-Central-Asia'}, {'country_code': 'ARG', 'country_long_name': 'Argentine-Republic', 'currency_unit': 'Argentine-peso', 'income_group': 'Upper-middle-income', 'region': 'Latin-America-&-Caribbean'}, {'country_code': 'ARM', 'country_long_name': 'Republic-of-Armenia', 'currency_unit': 'Armenian-dram', 'income_group': 'Lower-middle-income', 'region': 'Europe-&-Central-Asia'}]\n"
     ]
    }
   ],
   "source": [
    "#Country Master1 data file\n",
    "country_master1_file = \"country_master1.csv\"\n",
    "country_master1_df = pd.read_csv(country_master1_file)\n",
    "country_master1_df.head(5)\n",
    "country_master1_data = country_master1_df.to_dict(orient='records')\n",
    "print(country_master1_data[:5])"
   ]
  },
  {
   "cell_type": "code",
   "execution_count": 16,
   "metadata": {},
   "outputs": [],
   "source": [
    "metadata = MetaData(bind=engine)\n",
    "metadata.reflect()"
   ]
  },
  {
   "cell_type": "code",
   "execution_count": 17,
   "metadata": {},
   "outputs": [],
   "source": [
    "# Save the reference to the `country master` table as a variable called `cm`\n",
    "cm = sqlalchemy.Table('country_master', metadata, autoload=True)"
   ]
  },
  {
   "cell_type": "code",
   "execution_count": 18,
   "metadata": {},
   "outputs": [],
   "source": [
    "# Save the reference to the `indicator master` table as a variable called `im`\n",
    "im = sqlalchemy.Table('indicator_master', metadata, autoload=True)"
   ]
  },
  {
   "cell_type": "code",
   "execution_count": 19,
   "metadata": {},
   "outputs": [],
   "source": [
    "# Save the reference to the `cleaned data` table as a variable called `cd`\n",
    "cd = sqlalchemy.Table('ids_data', metadata, autoload=True)"
   ]
  },
  {
   "cell_type": "code",
   "execution_count": 20,
   "metadata": {},
   "outputs": [],
   "source": [
    "# Save the reference to the `cleaned poverty data` table as a variable called `pd`\n",
    "pd = sqlalchemy.Table('poverty_data', metadata, autoload=True)"
   ]
  },
  {
   "cell_type": "code",
   "execution_count": 21,
   "metadata": {},
   "outputs": [],
   "source": [
    "# Save the reference to the `country_master1` table as a variable called `cm1`\n",
    "cm1 = sqlalchemy.Table('country_master1', metadata, autoload=True)"
   ]
  },
  {
   "cell_type": "code",
   "execution_count": 22,
   "metadata": {},
   "outputs": [
    {
     "data": {
      "text/plain": [
       "<sqlalchemy.engine.result.ResultProxy at 0xa51c550>"
      ]
     },
     "execution_count": 22,
     "metadata": {},
     "output_type": "execute_result"
    }
   ],
   "source": [
    "# Use `cm.delete()` to remove any pre-existing data, from country table\n",
    "conn.execute(cm.delete())"
   ]
  },
  {
   "cell_type": "code",
   "execution_count": 23,
   "metadata": {},
   "outputs": [
    {
     "data": {
      "text/plain": [
       "<sqlalchemy.engine.result.ResultProxy at 0xa51f588>"
      ]
     },
     "execution_count": 23,
     "metadata": {},
     "output_type": "execute_result"
    }
   ],
   "source": [
    "# Use `im.delete()` to remove any pre-existing data, from indicator table\n",
    "conn.execute(im.delete())"
   ]
  },
  {
   "cell_type": "code",
   "execution_count": 24,
   "metadata": {},
   "outputs": [
    {
     "data": {
      "text/plain": [
       "<sqlalchemy.engine.result.ResultProxy at 0xa520ef0>"
      ]
     },
     "execution_count": 24,
     "metadata": {},
     "output_type": "execute_result"
    }
   ],
   "source": [
    "# Use `cd.delete()` to remove any pre-existing data, from IDS data table\n",
    "conn.execute(cd.delete())"
   ]
  },
  {
   "cell_type": "code",
   "execution_count": 25,
   "metadata": {},
   "outputs": [
    {
     "data": {
      "text/plain": [
       "<sqlalchemy.engine.result.ResultProxy at 0xa536048>"
      ]
     },
     "execution_count": 25,
     "metadata": {},
     "output_type": "execute_result"
    }
   ],
   "source": [
    "# Use `pd.delete()` to remove any pre-existing data, from IDS data table\n",
    "conn.execute(pd.delete())"
   ]
  },
  {
   "cell_type": "code",
   "execution_count": 26,
   "metadata": {},
   "outputs": [
    {
     "data": {
      "text/plain": [
       "<sqlalchemy.engine.result.ResultProxy at 0xa5364a8>"
      ]
     },
     "execution_count": 26,
     "metadata": {},
     "output_type": "execute_result"
    }
   ],
   "source": [
    "# Use `cm1.delete()` to remove any pre-existing data, from IDS data table\n",
    "conn.execute(cm1.delete())"
   ]
  },
  {
   "cell_type": "code",
   "execution_count": 27,
   "metadata": {},
   "outputs": [
    {
     "data": {
      "text/plain": [
       "<sqlalchemy.engine.result.ResultProxy at 0xa536a58>"
      ]
     },
     "execution_count": 27,
     "metadata": {},
     "output_type": "execute_result"
    }
   ],
   "source": [
    "# Use `cm.insert()` to insert the data into the country table\n",
    "# The SQL table is populated during this step\n",
    "conn.execute(cm.insert(), country_data)"
   ]
  },
  {
   "cell_type": "code",
   "execution_count": 28,
   "metadata": {},
   "outputs": [
    {
     "data": {
      "text/plain": [
       "<sqlalchemy.engine.result.ResultProxy at 0x912c358>"
      ]
     },
     "execution_count": 28,
     "metadata": {},
     "output_type": "execute_result"
    }
   ],
   "source": [
    "# Use `cm.insert()` to insert the data into the country table\n",
    "# The SQL table is populated during this step\n",
    "conn.execute(im.insert(), indicator_data)"
   ]
  },
  {
   "cell_type": "code",
   "execution_count": 29,
   "metadata": {},
   "outputs": [
    {
     "data": {
      "text/plain": [
       "<sqlalchemy.engine.result.ResultProxy at 0xb0018d0>"
      ]
     },
     "execution_count": 29,
     "metadata": {},
     "output_type": "execute_result"
    }
   ],
   "source": [
    "# Use `cd.insert()` to insert the data into the ids_data table\n",
    "# The SQL table is populated during this step\n",
    "conn.execute(cd.insert(), clean_data)"
   ]
  },
  {
   "cell_type": "code",
   "execution_count": 30,
   "metadata": {},
   "outputs": [
    {
     "data": {
      "text/plain": [
       "<sqlalchemy.engine.result.ResultProxy at 0x184bef60>"
      ]
     },
     "execution_count": 30,
     "metadata": {},
     "output_type": "execute_result"
    }
   ],
   "source": [
    "# Use `pd.insert()` to insert the data into the poverty_data table\n",
    "# The SQL table is populated during this step\n",
    "conn.execute(pd.insert(), poverty_clean_data)"
   ]
  },
  {
   "cell_type": "code",
   "execution_count": 31,
   "metadata": {},
   "outputs": [
    {
     "data": {
      "text/plain": [
       "<sqlalchemy.engine.result.ResultProxy at 0x184dc400>"
      ]
     },
     "execution_count": 31,
     "metadata": {},
     "output_type": "execute_result"
    }
   ],
   "source": [
    "# Use `cm1.insert()` to insert the data into the country_master1 table\n",
    "# The SQL table is populated during this step\n",
    "conn.execute(cm1.insert(), country_master1_data)"
   ]
  },
  {
   "cell_type": "code",
   "execution_count": 32,
   "metadata": {},
   "outputs": [
    {
     "data": {
      "text/plain": [
       "[(1, 'AFG', 'Afghanistan'),\n",
       " (2, 'AGO', 'Angola'),\n",
       " (3, 'ALB', 'Albania'),\n",
       " (4, 'ARG', 'Argentina'),\n",
       " (5, 'ARM', 'Armenia')]"
      ]
     },
     "execution_count": 32,
     "metadata": {},
     "output_type": "execute_result"
    }
   ],
   "source": [
    "# Test that the insert works by fetching the first 5 rows from country_master table. \n",
    "conn.execute(\"select * from country_master limit 5\").fetchall()"
   ]
  },
  {
   "cell_type": "code",
   "execution_count": 33,
   "metadata": {},
   "outputs": [
    {
     "data": {
      "text/plain": [
       "[(1, 'DT.GPA.DPPG', 'Average grace period on new external debt commitments (years)'),\n",
       " (2, 'DT.GPA.OFFT', 'Average grace period on new external debt commitments official (years)'),\n",
       " (3, 'DT.GPA.PRVT', 'Average grace period on new external debt commitments private (years)'),\n",
       " (4, 'DT.GRE.DPPG', 'Average grant element on new external debt commitments (%)'),\n",
       " (5, 'DT.GRE.OFFT', 'Average grant element on new external debt commitments official (%)')]"
      ]
     },
     "execution_count": 33,
     "metadata": {},
     "output_type": "execute_result"
    }
   ],
   "source": [
    "# Test that the insert works by fetching the first 5 rows from indicator_master table. \n",
    "conn.execute(\"select * from indicator_master limit 5\").fetchall()"
   ]
  },
  {
   "cell_type": "code",
   "execution_count": 34,
   "metadata": {},
   "outputs": [
    {
     "data": {
      "text/plain": [
       "[(1, 'AFG', 'DT.GPA.DPPG', 0.0, 0.0, 0.0, 0.0, 0.0, 0.0, 0.0, 0.0, 0.0, 0.0, 0.0, 0.0, 0.0, 0.0, 0.0, 0.0, 0.0, 0.0, 0.0, 0.0, 0.0, 0.0, 0.0, 0.0, 0.0, 0.0, 0.0, 0.0, 0.0, 0.0, 0.0, 0.0, 0.0, 0.0, 0.0, 0.0, 10.25, 8.0833, 9.9575, 0.0, 7.8333, 0.0, 0.0, 0.0, 29.8333, 0.0, 0.0, 0.0, 0.0, 0.0, 0.0, 0.0, 0.0, 0.0, 0.0),\n",
       " (2, 'AFG', 'DT.GPA.OFFT', 0.0, 0.0, 0.0, 0.0, 0.0, 0.0, 0.0, 0.0, 0.0, 0.0, 0.0, 0.0, 0.0, 0.0, 0.0, 0.0, 0.0, 0.0, 0.0, 0.0, 0.0, 0.0, 0.0, 0.0, 0.0, 0.0, 0.0, 0.0, 0.0, 0.0, 0.0, 0.0, 0.0, 0.0, 0.0, 0.0, 10.25, 8.0833, 9.9575, 0.0, 7.8333, 0.0, 0.0, 0.0, 29.8333, 0.0, 0.0, 0.0, 0.0, 0.0, 0.0, 0.0, 0.0, 0.0, 0.0),\n",
       " (3, 'AFG', 'DT.GPA.PRVT', 0.0, 0.0, 0.0, 0.0, 0.0, 0.0, 0.0, 0.0, 0.0, 0.0, 0.0, 0.0, 0.0, 0.0, 0.0, 0.0, 0.0, 0.0, 0.0, 0.0, 0.0, 0.0, 0.0, 0.0, 0.0, 0.0, 0.0, 0.0, 0.0, 0.0, 0.0, 0.0, 0.0, 0.0, 0.0, 0.0, 0.0, 0.0, 0.0, 0.0, 0.0, 0.0, 0.0, 0.0, 0.0, 0.0, 0.0, 0.0, 0.0, 0.0, 0.0, 0.0, 0.0, 0.0, 0.0),\n",
       " (4, 'AFG', 'DT.GRE.DPPG', 0.0, 0.0, 0.0, 0.0, 0.0, 0.0, 0.0, 0.0, 0.0, 0.0, 0.0, 0.0, 0.0, 0.0, 0.0, 0.0, 0.0, 0.0, 0.0, 0.0, 0.0, 0.0, 0.0, 0.0, 0.0, 0.0, 0.0, 0.0, 0.0, 0.0, 0.0, 0.0, 0.0, 0.0, 0.0, 0.0, 76.1157, 69.8357, 80.5234, 0.0, 53.1957, 0.0, 0.0, 0.0, 96.378, 0.0, 0.0, 0.0, 0.0, 0.0, 0.0, 0.0, 0.0, 0.0, 0.0),\n",
       " (5, 'AFG', 'DT.GRE.OFFT', 0.0, 0.0, 0.0, 0.0, 0.0, 0.0, 0.0, 0.0, 0.0, 0.0, 0.0, 0.0, 0.0, 0.0, 0.0, 0.0, 0.0, 0.0, 0.0, 0.0, 0.0, 0.0, 0.0, 0.0, 0.0, 0.0, 0.0, 0.0, 0.0, 0.0, 0.0, 0.0, 0.0, 0.0, 0.0, 0.0, 76.1157, 69.8357, 80.5234, 0.0, 53.1957, 0.0, 0.0, 0.0, 96.378, 0.0, 0.0, 0.0, 0.0, 0.0, 0.0, 0.0, 0.0, 0.0, 0.0)]"
      ]
     },
     "execution_count": 34,
     "metadata": {},
     "output_type": "execute_result"
    }
   ],
   "source": [
    "# Test that the insert works by fetching the first 5 rows from ind_data table. \n",
    "conn.execute(\"select * from ids_data limit 5\").fetchall()"
   ]
  },
  {
   "cell_type": "code",
   "execution_count": 35,
   "metadata": {},
   "outputs": [
    {
     "data": {
      "text/plain": [
       "[(1, 'EAP', 'SI.POV.UMIC.NO', -1.0, -1.0, -1.0, -1.0, -1.0, -1.0, -1.0, 1340.7, -1.0, -1.0, 1403.3, -1.0, -1.0, 1465.6, -1.0, -1.0, 1525.4, -1.0, -1.0, 1557.7, -1.0, -1.0, 1550.2, -1.0, -1.0, 1562.2, -1.0, -1.0, 1476.0, -1.0, -1.0, 1357.5, -1.0, -1.0, 1230.2, -1.0, 1101.8, 1036.0, 969.7, 853.0, -1.0, -1.0, -1.0, -1.0),\n",
       " (2, 'ECA', 'SI.POV.UMIC.NO', -1.0, -1.0, -1.0, -1.0, -1.0, -1.0, -1.0, -1.0, -1.0, -1.0, -1.0, -1.0, -1.0, 105.9, -1.0, -1.0, 117.3, -1.0, -1.0, 168.5, -1.0, -1.0, 194.1, -1.0, -1.0, 209.7, -1.0, -1.0, 161.8, -1.0, -1.0, 124.5, -1.0, -1.0, 81.0, -1.0, 78.1, 73.7, 72.0, 67.8, -1.0, -1.0, -1.0, -1.0),\n",
       " (3, 'LAC', 'SI.POV.UMIC.NO', -1.0, -1.0, -1.0, -1.0, -1.0, -1.0, -1.0, 166.5, -1.0, -1.0, 195.4, -1.0, -1.0, 188.8, -1.0, -1.0, 213.6, -1.0, -1.0, 221.9, -1.0, -1.0, 234.5, -1.0, -1.0, 239.3, -1.0, -1.0, 239.6, -1.0, -1.0, 225.7, -1.0, -1.0, 191.3, -1.0, 182.0, 175.7, 167.2, 165.8, -1.0, -1.0, -1.0, -1.0),\n",
       " (4, 'LMY', 'SI.POV.UMIC.NO', -1.0, -1.0, -1.0, -1.0, -1.0, -1.0, -1.0, 2967.6, -1.0, -1.0, 3143.1, -1.0, -1.0, 3307.9, -1.0, -1.0, 3512.5, -1.0, -1.0, 3729.5, -1.0, -1.0, 3855.1, -1.0, -1.0, 4009.7, -1.0, -1.0, 3990.5, -1.0, -1.0, 3911.4, -1.0, -1.0, 3799.8, -1.0, 3712.2, 3639.3, 3573.8, 3457.9, -1.0, -1.0, -1.0, -1.0),\n",
       " (5, 'LIC', 'SI.POV.UMIC.NO', -1.0, -1.0, -1.0, -1.0, -1.0, -1.0, -1.0, 237.7, -1.0, -1.0, 257.2, -1.0, -1.0, 277.7, -1.0, -1.0, 304.8, -1.0, -1.0, 335.3, -1.0, -1.0, 361.8, -1.0, -1.0, 392.2, -1.0, -1.0, 425.3, -1.0, -1.0, 460.1, -1.0, -1.0, 495.3, -1.0, 518.6, 530.0, 535.3, 546.1, -1.0, -1.0, -1.0, -1.0)]"
      ]
     },
     "execution_count": 35,
     "metadata": {},
     "output_type": "execute_result"
    }
   ],
   "source": [
    "# Test that the insert works by fetching the first 5 rows from ind_data table. \n",
    "conn.execute(\"select * from poverty_data limit 5\").fetchall()"
   ]
  },
  {
   "cell_type": "code",
   "execution_count": 36,
   "metadata": {},
   "outputs": [
    {
     "data": {
      "text/plain": [
       "[(1, 'AFG', 'Islamic-State-of-Afghanistan', 'Afghan-afghani', 'Low-income', 'South-Asia'),\n",
       " (2, 'AGO', 'Peoples-Republic-of-Angola', 'Angolan-kwanza', 'Lower-middle-income', 'Sub-Saharan-Africa'),\n",
       " (3, 'ALB', 'Republic-of-Albania', 'Albanian-lek', 'Upper-middle-income', 'Europe-&-Central-Asia'),\n",
       " (4, 'ARG', 'Argentine-Republic', 'Argentine-peso', 'Upper-middle-income', 'Latin-America-&-Caribbean'),\n",
       " (5, 'ARM', 'Republic-of-Armenia', 'Armenian-dram', 'Lower-middle-income', 'Europe-&-Central-Asia')]"
      ]
     },
     "execution_count": 36,
     "metadata": {},
     "output_type": "execute_result"
    }
   ],
   "source": [
    "# Test that the insert works by fetching the first 5 rows from icountry_master1table. \n",
    "conn.execute(\"select * from country_master1 limit 5\").fetchall()"
   ]
  },
  {
   "cell_type": "code",
   "execution_count": null,
   "metadata": {},
   "outputs": [],
   "source": []
  }
 ],
 "metadata": {
  "kernelspec": {
   "display_name": "Python 3",
   "language": "python",
   "name": "python3"
  },
  "language_info": {
   "codemirror_mode": {
    "name": "ipython",
    "version": 3
   },
   "file_extension": ".py",
   "mimetype": "text/x-python",
   "name": "python",
   "nbconvert_exporter": "python",
   "pygments_lexer": "ipython3",
   "version": "3.6.4"
  }
 },
 "nbformat": 4,
 "nbformat_minor": 2
}
