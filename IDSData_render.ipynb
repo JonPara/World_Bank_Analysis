{
 "cells": [
  {
   "cell_type": "code",
   "execution_count": 1,
   "metadata": {},
   "outputs": [],
   "source": [
    "# Import SQL Alchemy `automap`, Flask, custom function and other dependencies. \n",
    "from sqlalchemy import create_engine, MetaData, desc\n",
    "from sqlalchemy.ext.automap import automap_base\n",
    "from sqlalchemy.orm import Session\n",
    "from flask import Flask, jsonify, render_template\n",
    "\n",
    "# Import and establish Base for which classes will be constructed \n",
    "from sqlalchemy.ext.declarative import declarative_base\n",
    "Base = declarative_base()\n",
    "\n",
    "# Import modules to declare columns and column data types\n",
    "from sqlalchemy import Column, Integer, String, Float, inspect\n",
    "\n",
    "import numpy as np\n"
   ]
  },
  {
   "cell_type": "code",
   "execution_count": 2,
   "metadata": {},
   "outputs": [],
   "source": [
    "app = Flask(__name__)\n",
    "\n",
    "# Create a connection to a SQLite database\n",
    "engine = create_engine('sqlite:///ids.sqlite', echo=False)\n"
   ]
  },
  {
   "cell_type": "code",
   "execution_count": 3,
   "metadata": {},
   "outputs": [],
   "source": [
    "# reflect an existing database into a new model\n",
    "Base = automap_base()\n",
    "# reflect the tables\n",
    "Base.prepare(engine, reflect=True)"
   ]
  },
  {
   "cell_type": "code",
   "execution_count": 4,
   "metadata": {},
   "outputs": [],
   "source": [
    "CountryMaster = Base.classes.country_master\n",
    "IndicatorMaster = Base.classes.indicator_master\n",
    "IDSData = Base.classes.ids_data"
   ]
  },
  {
   "cell_type": "code",
   "execution_count": 5,
   "metadata": {},
   "outputs": [],
   "source": [
    "#create session (link) from Python to the DB\n",
    "session = Session(engine)"
   ]
  },
  {
   "cell_type": "code",
   "execution_count": 6,
   "metadata": {},
   "outputs": [],
   "source": [
    "@app.route(\"/\")\n",
    "def home():\n",
    "    #return render_template(\"index.html\")\n",
    "    return(\n",
    "    f\"Available Routes:<br/>\"\n",
    "    f\"/country<br/>\"\n",
    "    f\"/indicators<br/>\"\n",
    "    f\"/idsdata/<country></br>\"\n",
    "    )"
   ]
  },
  {
   "cell_type": "code",
   "execution_count": null,
   "metadata": {},
   "outputs": [
    {
     "name": "stderr",
     "output_type": "stream",
     "text": [
      " * Running on http://127.0.0.1:5000/ (Press CTRL+C to quit)\n",
      "127.0.0.1 - - [11/Jun/2018 22:03:31] \"GET / HTTP/1.1\" 200 -\n",
      "[2018-06-11 22:03:43,514] ERROR in app: Exception on /idsdata/AFG [GET]\n",
      "Traceback (most recent call last):\n",
      "  File \"C:\\Users\\anuj\\Anaconda3b\\lib\\site-packages\\flask\\app.py\", line 1982, in wsgi_app\n",
      "    response = self.full_dispatch_request()\n",
      "  File \"C:\\Users\\anuj\\Anaconda3b\\lib\\site-packages\\flask\\app.py\", line 1614, in full_dispatch_request\n",
      "    rv = self.handle_user_exception(e)\n",
      "  File \"C:\\Users\\anuj\\Anaconda3b\\lib\\site-packages\\flask\\app.py\", line 1517, in handle_user_exception\n",
      "    reraise(exc_type, exc_value, tb)\n",
      "  File \"C:\\Users\\anuj\\Anaconda3b\\lib\\site-packages\\flask\\_compat.py\", line 33, in reraise\n",
      "    raise value\n",
      "  File \"C:\\Users\\anuj\\Anaconda3b\\lib\\site-packages\\flask\\app.py\", line 1612, in full_dispatch_request\n",
      "    rv = self.dispatch_request()\n",
      "  File \"C:\\Users\\anuj\\Anaconda3b\\lib\\site-packages\\flask\\app.py\", line 1598, in dispatch_request\n",
      "    return self.view_functions[rule.endpoint](**req.view_args)\n",
      "TypeError: idsdata_info_by_country() got an unexpected keyword argument 'country'\n",
      "127.0.0.1 - - [11/Jun/2018 22:03:43] \"GET /idsdata/AFG HTTP/1.1\" 500 -\n"
     ]
    }
   ],
   "source": [
    "@app.route(\"/country\")\n",
    "def country_info():\n",
    "    resultc = session.query(CountryMaster.country_code, CountryMaster.country_name).all()\n",
    "    print(resultc)\n",
    "    country_list = [list(i) for i in resultc]\n",
    "    return jsonify(country_list)\n",
    "\n",
    "@app.route(\"/indicators\")\n",
    "def indicator_info():\n",
    "    resulti = session.query(IndicatorMaster.indicator_code, IndicatorMaster.indicator_name).all()\n",
    "    print(resulti)\n",
    "    indicator_list = [list(i) for i in resulti]\n",
    "    return jsonify(indicator_list)\n",
    "\n",
    "@app.route(\"/idsdata/<country>\")\n",
    "def idsdata_info_by_country():\n",
    "    resultids = session.query(IDSData.country_code, IDSData.indicator_code, IDSData.yr_1970).filter_by(country_code=country).all()\n",
    "    print(resultids)\n",
    "    idsdata_list = [list(i) for i in resultids]\n",
    "    return jsonify(idsdata_list)\n",
    "\n",
    "#     result = session.query(Samples_metadata.WFREQ).filter_by(SAMPLEID = sample_name).all()\n",
    "#     print(result)\n",
    "#     wash_freq = result[0][0]\n",
    "#     return jsonify(wash_freq)\n",
    "    \n",
    "if __name__ == '__main__':\n",
    "    app.run(debug=False)\n",
    "    #changed from True to False to work in Jupyter Notebook"
   ]
  },
  {
   "cell_type": "code",
   "execution_count": null,
   "metadata": {},
   "outputs": [],
   "source": [
    "    \n",
    "\n",
    "\n"
   ]
  },
  {
   "cell_type": "code",
   "execution_count": null,
   "metadata": {},
   "outputs": [],
   "source": []
  },
  {
   "cell_type": "code",
   "execution_count": null,
   "metadata": {},
   "outputs": [],
   "source": []
  }
 ],
 "metadata": {
  "kernelspec": {
   "display_name": "Python 3",
   "language": "python",
   "name": "python3"
  },
  "language_info": {
   "codemirror_mode": {
    "name": "ipython",
    "version": 3
   },
   "file_extension": ".py",
   "mimetype": "text/x-python",
   "name": "python",
   "nbconvert_exporter": "python",
   "pygments_lexer": "ipython3",
   "version": "3.6.4"
  }
 },
 "nbformat": 4,
 "nbformat_minor": 2
}
