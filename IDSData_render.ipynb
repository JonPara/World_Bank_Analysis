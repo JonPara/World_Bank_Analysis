{
 "cells": [
  {
   "cell_type": "code",
   "execution_count": 1,
   "metadata": {},
   "outputs": [],
   "source": [
    "# Import SQL Alchemy `automap`, Flask, custom function and other dependencies. \n",
    "from sqlalchemy import create_engine, MetaData, desc\n",
    "from sqlalchemy.ext.automap import automap_base\n",
    "from sqlalchemy.orm import Session\n",
    "from flask import Flask, jsonify, render_template\n",
    "\n",
    "# Import and establish Base for which classes will be constructed \n",
    "from sqlalchemy.ext.declarative import declarative_base\n",
    "Base = declarative_base()\n",
    "\n",
    "# Import modules to declare columns and column data types\n",
    "from sqlalchemy import Column, Integer, String, Float, inspect\n",
    "\n",
    "import numpy as np\n"
   ]
  },
  {
   "cell_type": "code",
   "execution_count": 2,
   "metadata": {},
   "outputs": [],
   "source": [
    "app = Flask(__name__)\n",
    "\n",
    "# Create a connection to a SQLite database\n",
    "engine = create_engine('sqlite:///ids.sqlite', echo=False)\n"
   ]
  },
  {
   "cell_type": "code",
   "execution_count": 3,
   "metadata": {},
   "outputs": [],
   "source": [
    "# reflect an existing database into a new model\n",
    "Base = automap_base()\n",
    "# reflect the tables\n",
    "Base.prepare(engine, reflect=True)"
   ]
  },
  {
   "cell_type": "code",
   "execution_count": 4,
   "metadata": {},
   "outputs": [],
   "source": [
    "CountryMaster = Base.classes.country_master\n",
    "IndicatorMaster = Base.classes.indicator_master\n",
    "IDSData = Base.classes.ids_data\n",
    "PovertyData = Base.classes.poverty_data\n",
    "CountryMaster1 = Base.classes.country_master1"
   ]
  },
  {
   "cell_type": "code",
   "execution_count": 5,
   "metadata": {},
   "outputs": [],
   "source": [
    "#create session (link) from Python to the DB\n",
    "session = Session(engine)"
   ]
  },
  {
   "cell_type": "code",
   "execution_count": 6,
   "metadata": {},
   "outputs": [],
   "source": [
    "@app.route(\"/\")\n",
    "def home():\n",
    "    return render_template(\"index.html\")\n",
    "    "
   ]
  },
  {
   "cell_type": "code",
   "execution_count": null,
   "metadata": {},
   "outputs": [
    {
     "name": "stderr",
     "output_type": "stream",
     "text": [
      " * Running on http://127.0.0.1:5000/ (Press CTRL+C to quit)\n"
     ]
    }
   ],
   "source": [
    "@app.route(\"/country\")\n",
    "def country_info():\n",
    "    resultc = session.query(CountryMaster.country_code).all()\n",
    "    print(resultc)\n",
    "    country_list = [list(i) for i in resultc]\n",
    "    return jsonify(country_list)\n",
    "\n",
    "@app.route(\"/country1/<country>\")\n",
    "def country_info1(country):\n",
    "    resultc1 = session.query(CountryMaster1.country_code, CountryMaster1.country_long_name,\n",
    "                             CountryMaster1.currency_unit, CountryMaster1.income_group, \n",
    "                             CountryMaster1.region).filter_by(country_code=country).all()\n",
    "    print(resultc1)\n",
    "    country_list1 = [list(i) for i in resultc1]\n",
    "    return jsonify(country_list1)\n",
    "\n",
    "@app.route(\"/indicators\")\n",
    "def indicator_info():\n",
    "    resulti = session.query(IndicatorMaster.indicator_code, IndicatorMaster.indicator_name).all()\n",
    "    print(resulti)\n",
    "    indicator_list = [list(i) for i in resulti]\n",
    "    return jsonify(indicator_list)\n",
    "\n",
    "@app.route(\"/debt/<country>\")\n",
    "def debtByCountry(country):\n",
    "    year = [2006,2007,2008,2009,2010,2011,2012,2013,2014,2015,2016]\n",
    "    debt_per_year = []\n",
    "    debt_result = {}\n",
    "    resultids = session.query(IDSData.yr_2006,\n",
    "                              IDSData.yr_2007,\n",
    "                              IDSData.yr_2008,\n",
    "                              IDSData.yr_2009,\n",
    "                              IDSData.yr_2010,\n",
    "                              IDSData.yr_2011,\n",
    "                              IDSData.yr_2012,\n",
    "                              IDSData.yr_2013,\n",
    "                              IDSData.yr_2014,\n",
    "                              IDSData.yr_2015,\n",
    "                              IDSData.yr_2016\n",
    "                              ).filter_by(Country_Code=country, Indicator_Code='DT.DOD.DLXF.CD').all()\n",
    "    print(resultids)\n",
    "\n",
    "   \n",
    "    for resultid in resultids:\n",
    "        debt_per_year.append(resultid)\n",
    "\n",
    "    # Add the above lists to the dictionary\n",
    "    debt_result = {\n",
    "        \"year\": year,\n",
    "        \"debt_per_year\": debt_per_year\n",
    "    }\n",
    "    \n",
    "    return jsonify(debt_result)\n",
    "\n",
    "@app.route(\"/poverty/<country>\")\n",
    "def poverty(country):\n",
    "    year = [2006,2007,2008,2009,2010,2011,2012,2013,2014,2015,2016]\n",
    "    poverty_per_year = []\n",
    "    poverty_result = {}\n",
    "    resultids = session.query(PovertyData.yr_2006,\n",
    "                              PovertyData.yr_2007,\n",
    "                              PovertyData.yr_2008,\n",
    "                              PovertyData.yr_2009,\n",
    "                              PovertyData.yr_2010,\n",
    "                              PovertyData.yr_2011,\n",
    "                              PovertyData.yr_2012,\n",
    "                              PovertyData.yr_2013,\n",
    "                              PovertyData.yr_2014,\n",
    "                              PovertyData.yr_2015,\n",
    "                              PovertyData.yr_2016\n",
    "                              ).filter_by(Country_Code=country)\n",
    "\n",
    "   \n",
    "    for resultid in resultids:\n",
    "        poverty_per_year.append(resultid)\n",
    "\n",
    "    # Add the above lists to the dictionary\n",
    "    poverty_result = {\n",
    "        \"year\": year,\n",
    "        \"poverty_per_year\": poverty_per_year\n",
    "    }\n",
    "    \n",
    "    return jsonify(poverty_result)\n",
    "\n",
    "\n",
    "    \n",
    "if __name__ == '__main__':\n",
    "    app.run(debug=False)\n",
    "    #changed from True to False to work in Jupyter Notebook"
   ]
  },
  {
   "cell_type": "code",
   "execution_count": null,
   "metadata": {},
   "outputs": [],
   "source": [
    "    \n",
    "\n",
    "\n"
   ]
  },
  {
   "cell_type": "code",
   "execution_count": null,
   "metadata": {},
   "outputs": [],
   "source": []
  },
  {
   "cell_type": "code",
   "execution_count": null,
   "metadata": {},
   "outputs": [],
   "source": []
  }
 ],
 "metadata": {
  "kernelspec": {
   "display_name": "Python 3",
   "language": "python",
   "name": "python3"
  },
  "language_info": {
   "codemirror_mode": {
    "name": "ipython",
    "version": 3
   },
   "file_extension": ".py",
   "mimetype": "text/x-python",
   "name": "python",
   "nbconvert_exporter": "python",
   "pygments_lexer": "ipython3",
   "version": "3.6.4"
  }
 },
 "nbformat": 4,
 "nbformat_minor": 2
}
